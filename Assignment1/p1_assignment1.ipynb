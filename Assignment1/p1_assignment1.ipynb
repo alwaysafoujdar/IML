{
 "cells": [
  {
   "cell_type": "code",
   "execution_count": 19,
   "metadata": {},
   "outputs": [],
   "source": [
    "import pandas as pd\n",
    "import numpy as np\n",
    "from sklearn.datasets import load_iris"
   ]
  },
  {
   "cell_type": "code",
   "execution_count": 20,
   "metadata": {},
   "outputs": [
    {
     "data": {
      "text/plain": [
       "['sepal length (cm)',\n",
       " 'sepal width (cm)',\n",
       " 'petal length (cm)',\n",
       " 'petal width (cm)']"
      ]
     },
     "execution_count": 20,
     "metadata": {},
     "output_type": "execute_result"
    }
   ],
   "source": [
    "iris = load_iris()\n",
    "iris.feature_names"
   ]
  },
  {
   "cell_type": "code",
   "execution_count": 21,
   "metadata": {},
   "outputs": [
    {
     "data": {
      "text/html": [
       "<div>\n",
       "<style scoped>\n",
       "    .dataframe tbody tr th:only-of-type {\n",
       "        vertical-align: middle;\n",
       "    }\n",
       "\n",
       "    .dataframe tbody tr th {\n",
       "        vertical-align: top;\n",
       "    }\n",
       "\n",
       "    .dataframe thead th {\n",
       "        text-align: right;\n",
       "    }\n",
       "</style>\n",
       "<table border=\"1\" class=\"dataframe\">\n",
       "  <thead>\n",
       "    <tr style=\"text-align: right;\">\n",
       "      <th></th>\n",
       "      <th>sepal length (cm)</th>\n",
       "      <th>sepal width (cm)</th>\n",
       "      <th>petal length (cm)</th>\n",
       "      <th>petal width (cm)</th>\n",
       "      <th>class</th>\n",
       "    </tr>\n",
       "  </thead>\n",
       "  <tbody>\n",
       "    <tr>\n",
       "      <th>0</th>\n",
       "      <td>5.1</td>\n",
       "      <td>3.5</td>\n",
       "      <td>1.4</td>\n",
       "      <td>0.2</td>\n",
       "      <td>0</td>\n",
       "    </tr>\n",
       "    <tr>\n",
       "      <th>1</th>\n",
       "      <td>4.9</td>\n",
       "      <td>3.0</td>\n",
       "      <td>1.4</td>\n",
       "      <td>0.2</td>\n",
       "      <td>0</td>\n",
       "    </tr>\n",
       "    <tr>\n",
       "      <th>2</th>\n",
       "      <td>4.7</td>\n",
       "      <td>3.2</td>\n",
       "      <td>1.3</td>\n",
       "      <td>0.2</td>\n",
       "      <td>0</td>\n",
       "    </tr>\n",
       "    <tr>\n",
       "      <th>3</th>\n",
       "      <td>4.6</td>\n",
       "      <td>3.1</td>\n",
       "      <td>1.5</td>\n",
       "      <td>0.2</td>\n",
       "      <td>0</td>\n",
       "    </tr>\n",
       "    <tr>\n",
       "      <th>4</th>\n",
       "      <td>5.0</td>\n",
       "      <td>3.6</td>\n",
       "      <td>1.4</td>\n",
       "      <td>0.2</td>\n",
       "      <td>0</td>\n",
       "    </tr>\n",
       "  </tbody>\n",
       "</table>\n",
       "</div>"
      ],
      "text/plain": [
       "   sepal length (cm)  sepal width (cm)  petal length (cm)  petal width (cm)  \\\n",
       "0                5.1               3.5                1.4               0.2   \n",
       "1                4.9               3.0                1.4               0.2   \n",
       "2                4.7               3.2                1.3               0.2   \n",
       "3                4.6               3.1                1.5               0.2   \n",
       "4                5.0               3.6                1.4               0.2   \n",
       "\n",
       "   class  \n",
       "0      0  \n",
       "1      0  \n",
       "2      0  \n",
       "3      0  \n",
       "4      0  "
      ]
     },
     "execution_count": 21,
     "metadata": {},
     "output_type": "execute_result"
    }
   ],
   "source": [
    "X = iris.data\n",
    "y = iris.target\n",
    "\n",
    "df = pd.DataFrame(X, columns=iris.feature_names)\n",
    "df['class'] = y\n",
    "df.head()"
   ]
  },
  {
   "cell_type": "code",
   "execution_count": null,
   "metadata": {},
   "outputs": [],
   "source": [
    "from sklearn.model_selection import train_test_split\n",
    "\n",
    "X_train, X_test, y_train, y_test = train_test_split(X, y, test_size=0.4, random_state=0)\n",
    "\n",
    "\n",
    "#Here is our raw data\n",
    "X_train_raw, X_test_raw = X_train.copy(), X_test.copy()\n",
    "\n",
    "\n",
    "#Here is our normalized data\n",
    "X_min = np.min(X_train) \n",
    "X_max = np.max(X_train)  \n",
    "X_train_norm = (X_train - X_min) / (X_max - X_min)\n",
    "X_test_norm = (X_test - X_min) / (X_max - X_min) \n",
    "\n",
    "#Here is our standardized data\n",
    "X_mean = np.mean(X_train, axis=0)  \n",
    "X_std = np.std(X_train, axis=0)  \n",
    "X_train_std = (X_train - X_mean) / X_std\n",
    "X_test_std = (X_test - X_mean) / X_std \n"
   ]
  },
  {
   "cell_type": "code",
   "execution_count": 23,
   "metadata": {},
   "outputs": [
    {
     "name": "stdout",
     "output_type": "stream",
     "text": [
      "X_raw -> [[6.  3.4 4.5 1.6]\n",
      " [4.8 3.1 1.6 0.2]\n",
      " [5.8 2.7 5.1 1.9]\n",
      " [5.6 2.7 4.2 1.3]\n",
      " [5.6 2.9 3.6 1.3]]\n",
      "X_norm -> [[0.75641026 0.42307692 0.56410256 0.19230769]\n",
      " [0.6025641  0.38461538 0.19230769 0.01282051]\n",
      " [0.73076923 0.33333333 0.64102564 0.23076923]\n",
      " [0.70512821 0.33333333 0.52564103 0.15384615]\n",
      " [0.70512821 0.35897436 0.44871795 0.15384615]]\n",
      "X_std -> [[ 0.18206758  0.71103882  0.45664061  0.55799544]\n",
      " [-1.17402201  0.00522823 -1.10334891 -1.19530695]\n",
      " [-0.04394735 -0.93585257  0.77939706  0.9337031 ]\n",
      " [-0.26996228 -0.93585257  0.29526238  0.18228779]\n",
      " [-0.26996228 -0.46531217 -0.02749407  0.18228779]]\n"
     ]
    }
   ],
   "source": [
    "print(\"X_raw ->\",X_train_raw[:5])\n",
    "print(\"X_norm ->\",X_train_norm[:5]) \n",
    "print(\"X_std ->\",X_train_std[:5])  "
   ]
  },
  {
   "cell_type": "code",
   "execution_count": 24,
   "metadata": {},
   "outputs": [],
   "source": [
    "def softmax(z):\n",
    "    z -= np.max(z, axis=1, keepdims=True)  # Prevent overflow\n",
    "    exp_z = np.exp(z)\n",
    "    return exp_z / np.sum(exp_z, axis=1, keepdims=True)\n"
   ]
  },
  {
   "cell_type": "code",
   "execution_count": 25,
   "metadata": {},
   "outputs": [],
   "source": [
    "def categorical_cross_entropy(y_true, y_pred):\n",
    "    m = y_true.shape[0]  \n",
    "    #we add a small value to the log to avoid log(0)\n",
    "    loss = -np.sum(y_true * np.log(y_pred + 1e-9)) / m  \n",
    "    return loss\n",
    "\n",
    "def predict(X, W, b):\n",
    "    logits = np.dot(X, W) + b\n",
    "    y_pred = softmax(logits)\n",
    "    return np.argmax(y_pred, axis=1)\n",
    "\n",
    "def one_hot_encode(y, n_classes):\n",
    "    one_hot = np.zeros((len(y), n_classes))\n",
    "    one_hot[np.arange(len(y)), y] = 1\n",
    "    return one_hot\n",
    "\n",
    "def logits(X, W, b):\n",
    "    logits = np.dot(X, W) + b\n",
    "    return logits"
   ]
  },
  {
   "cell_type": "code",
   "execution_count": 26,
   "metadata": {},
   "outputs": [],
   "source": [
    "#Training the model\n",
    "\n",
    "# Initialize parameters\n",
    "np.random.seed(42)\n",
    "n_samples, n_features = X_train.shape\n",
    "n_classes = np.size(np.unique(y_train))\n",
    "\n",
    "W = np.random.randn(n_features, n_classes) * np.sqrt(2 / n_features)\n",
    "b = np.zeros((1, n_classes))  "
   ]
  },
  {
   "cell_type": "code",
   "execution_count": 59,
   "metadata": {},
   "outputs": [
    {
     "name": "stdout",
     "output_type": "stream",
     "text": [
      "Raw loss:  6.978280043084616\n",
      "Norm loss:  1.3689111323350565\n",
      "Std loss:  1.9930451308712616\n"
     ]
    }
   ],
   "source": [
    "y_raw_prob = softmax(logits(X_train_raw, W, b))\n",
    "y_norm_prob = softmax(logits(X_train_norm, W, b))\n",
    "y_std_prob = softmax(logits(X_train_std, W, b))\n",
    "\n",
    "one_hot_ytrain = one_hot_encode(y_train, n_classes)\n",
    "\n",
    "loss_raw = categorical_cross_entropy(one_hot_ytrain,y_raw_prob)\n",
    "loss_norm = categorical_cross_entropy(one_hot_ytrain,y_norm_prob)\n",
    "loss_std = categorical_cross_entropy(one_hot_ytrain,y_std_prob)\n",
    "\n",
    "print(\"Raw loss: \", loss_raw)\n",
    "print(\"Norm loss: \", loss_norm)\n",
    "print(\"Std loss: \", loss_std)"
   ]
  },
  {
   "cell_type": "code",
   "execution_count": 28,
   "metadata": {},
   "outputs": [
    {
     "data": {
      "text/plain": [
       "array([[0., 1., 0.],\n",
       "       [1., 0., 0.],\n",
       "       [0., 0., 1.],\n",
       "       [0., 1., 0.],\n",
       "       [0., 1., 0.]])"
      ]
     },
     "execution_count": 28,
     "metadata": {},
     "output_type": "execute_result"
    }
   ],
   "source": [
    "one_hot_ytrain[:5]"
   ]
  },
  {
   "cell_type": "code",
   "execution_count": 29,
   "metadata": {},
   "outputs": [
    {
     "data": {
      "text/plain": [
       "(90,)"
      ]
     },
     "execution_count": 29,
     "metadata": {},
     "output_type": "execute_result"
    }
   ],
   "source": [
    "y_train.shape\n"
   ]
  },
  {
   "cell_type": "code",
   "execution_count": 30,
   "metadata": {},
   "outputs": [
    {
     "data": {
      "text/plain": [
       "(90, 4)"
      ]
     },
     "execution_count": 30,
     "metadata": {},
     "output_type": "execute_result"
    }
   ],
   "source": [
    "X_train.shape"
   ]
  },
  {
   "cell_type": "code",
   "execution_count": 62,
   "metadata": {},
   "outputs": [
    {
     "name": "stdout",
     "output_type": "stream",
     "text": [
      "Epoch 0: Loss = 6.9783\n",
      "Epoch 50: Loss = 0.5535\n",
      "Epoch 100: Loss = 0.4364\n",
      "Epoch 150: Loss = 0.3785\n",
      "Epoch 200: Loss = 0.3391\n",
      "Epoch 250: Loss = 0.3092\n",
      "Epoch 300: Loss = 0.2852\n",
      "Epoch 350: Loss = 0.2654\n",
      "Epoch 400: Loss = 0.2488\n",
      "Epoch 450: Loss = 0.2346\n"
     ]
    }
   ],
   "source": [
    "def gradient_descent(X, y, W, b, lr=0.01, epochs=500):\n",
    "    \"\"\" Train using batch gradient descent \"\"\"\n",
    "    m = X.shape[0]\n",
    "    n_classes = np.size(np.unique(y))\n",
    "    losses = []\n",
    "\n",
    "    for epoch in range(epochs):\n",
    "        logits = np.dot(X, W) + b \n",
    "        y_pred = softmax(logits)\n",
    "        y_onehot = one_hot_encode(y, n_classes)\n",
    "\n",
    "        loss = categorical_cross_entropy(y_onehot, y_pred)\n",
    "        losses.append(loss)\n",
    "\n",
    "        dW = (1/m) * np.dot(X.T, (y_pred - y_onehot))\n",
    "        db = (1/m) * np.sum(y_pred - y_onehot, axis=0, keepdims=True)\n",
    "\n",
    "        W -= lr * dW\n",
    "        b -= lr * db  \n",
    "\n",
    "        if epoch % 50 == 0:\n",
    "            print(f\"Epoch {epoch}: Loss = {loss:.4f}\")\n",
    "\n",
    "    return W, b, losses\n",
    "\n",
    "W_init = np.copy(W)\n",
    "b_init = np.copy(b)\n",
    "W_gd, b_gd, loss_gd = gradient_descent(X_train_raw, y_train, W_init, b_init, lr=0.05, epochs=500)\n"
   ]
  },
  {
   "cell_type": "code",
   "execution_count": 63,
   "metadata": {},
   "outputs": [
    {
     "name": "stdout",
     "output_type": "stream",
     "text": [
      "Epoch 0: Loss = 1.3689\n",
      "Epoch 50: Loss = 1.1473\n",
      "Epoch 100: Loss = 1.0902\n",
      "Epoch 150: Loss = 1.0425\n",
      "Epoch 200: Loss = 0.9996\n",
      "Epoch 250: Loss = 0.9608\n",
      "Epoch 300: Loss = 0.9256\n",
      "Epoch 350: Loss = 0.8936\n",
      "Epoch 400: Loss = 0.8646\n",
      "Epoch 450: Loss = 0.8381\n"
     ]
    }
   ],
   "source": [
    "W_init = np.copy(W)\n",
    "b_init = np.copy(b)\n",
    "W_gd, b_gd, loss_gd = gradient_descent(X_train_norm, y_train, W_init, b_init, lr=0.05, epochs=500)"
   ]
  },
  {
   "cell_type": "code",
   "execution_count": 64,
   "metadata": {},
   "outputs": [
    {
     "name": "stdout",
     "output_type": "stream",
     "text": [
      "Epoch 0: Loss = 1.9930\n",
      "Epoch 50: Loss = 0.2165\n",
      "Epoch 100: Loss = 0.1577\n",
      "Epoch 150: Loss = 0.1278\n",
      "Epoch 200: Loss = 0.1098\n",
      "Epoch 250: Loss = 0.0977\n",
      "Epoch 300: Loss = 0.0890\n",
      "Epoch 350: Loss = 0.0823\n",
      "Epoch 400: Loss = 0.0771\n",
      "Epoch 450: Loss = 0.0728\n"
     ]
    }
   ],
   "source": [
    "W_init = np.copy(W)\n",
    "b_init = np.copy(b)\n",
    "W_gd, b_gd, loss_gd = gradient_descent(X_train_std, y_train, W_init, b_init, lr=0.5, epochs=500)"
   ]
  },
  {
   "cell_type": "code",
   "execution_count": 34,
   "metadata": {},
   "outputs": [],
   "source": [
    "def one_hot_encode_single(y, num_classes):\n",
    "    one_hot = np.zeros((1, num_classes))\n",
    "    one_hot[0, y] = 1\n",
    "    return one_hot"
   ]
  },
  {
   "cell_type": "code",
   "execution_count": 35,
   "metadata": {},
   "outputs": [
    {
     "name": "stdout",
     "output_type": "stream",
     "text": [
      "Epoch 0: Loss = 0.6678\n",
      "Epoch 50: Loss = 0.0303\n",
      "Epoch 100: Loss = 0.0175\n",
      "Epoch 150: Loss = 0.0121\n",
      "Epoch 200: Loss = 0.0092\n",
      "Epoch 250: Loss = 0.0074\n",
      "Epoch 300: Loss = 0.0061\n",
      "Epoch 350: Loss = 0.0052\n",
      "Epoch 400: Loss = 0.0045\n",
      "Epoch 450: Loss = 0.0040\n"
     ]
    }
   ],
   "source": [
    "def sgd(X, y, W, b, lr=0.01, epochs=500):\n",
    "    loss_hist = []\n",
    "    m = X.shape[0]\n",
    "    n_classes = np.size(np.unique(y))\n",
    "\n",
    "    for epoch in range(epochs):\n",
    "        total_loss = 0\n",
    "        for i in range(m):\n",
    "            xi = X[i].reshape(1, -1)\n",
    "            yi = one_hot_encode_single(y[i], n_classes)\n",
    "\n",
    "            logits = np.dot(xi, W) + b \n",
    "            y_pred_i = softmax(logits)  \n",
    "\n",
    "            loss = categorical_cross_entropy(yi, y_pred_i)\n",
    "            total_loss += loss\n",
    "\n",
    "            dW = np.dot(xi.T, (y_pred_i - yi))\n",
    "            db = np.sum(y_pred_i - yi, axis=0, keepdims=True)\n",
    "\n",
    "            W -= lr * dW\n",
    "            b -= lr * db\n",
    "\n",
    "        loss_hist.append(total_loss / m)\n",
    "\n",
    "        if epoch % 50 == 0:\n",
    "            print(f\"Epoch {epoch}: Loss = {loss:.4f}\")\n",
    "\n",
    "\n",
    "    return W, b, loss_hist\n",
    "\n",
    "# Train the model using SGD\n",
    "W_init = np.copy(W)\n",
    "b_init = np.copy(b)\n",
    "W_sgd, b_sgd, loss_history_sgd = sgd(X_train_raw, y_train, W_init, b_init)\n"
   ]
  },
  {
   "cell_type": "code",
   "execution_count": 36,
   "metadata": {},
   "outputs": [
    {
     "name": "stdout",
     "output_type": "stream",
     "text": [
      "Epoch 0: Loss = 1.0882\n",
      "Epoch 50: Loss = 0.0984\n",
      "Epoch 100: Loss = 0.0598\n",
      "Epoch 150: Loss = 0.0429\n",
      "Epoch 200: Loss = 0.0334\n",
      "Epoch 250: Loss = 0.0273\n",
      "Epoch 300: Loss = 0.0230\n",
      "Epoch 350: Loss = 0.0199\n",
      "Epoch 400: Loss = 0.0175\n",
      "Epoch 450: Loss = 0.0156\n"
     ]
    }
   ],
   "source": [
    "W_init = np.copy(W)\n",
    "b_init = np.copy(b)\n",
    "W_sgd, b_sgd, loss_history_sgd = sgd(X_train_norm, y_train, W_init, b_init, lr = 0.1)"
   ]
  },
  {
   "cell_type": "code",
   "execution_count": null,
   "metadata": {},
   "outputs": [
    {
     "name": "stdout",
     "output_type": "stream",
     "text": [
      "Epoch 0: Loss = 0.8280\n",
      "Epoch 50: Loss = 0.0096\n",
      "Epoch 100: Loss = 0.0052\n",
      "Epoch 150: Loss = 0.0034\n",
      "Epoch 200: Loss = 0.0024\n",
      "Epoch 250: Loss = 0.0018\n",
      "Epoch 300: Loss = 0.0015\n",
      "Epoch 350: Loss = 0.0012\n",
      "Epoch 400: Loss = 0.0010\n",
      "Epoch 450: Loss = 0.0008\n"
     ]
    }
   ],
   "source": [
    "W_init = np.copy(W)\n",
    "b_init = np.copy(b)\n",
    "W_sgd, b_sgd, loss_history_sgd = sgd(X_train_std, y_train, W_init, b_init)"
   ]
  },
  {
   "cell_type": "markdown",
   "metadata": {},
   "source": [
    "Note: For Batch GD, we used a learning rate of 0.5 and for SGD we used a learning rate of 0.01.\n",
    "Also, for the evaluation of the model, we will use the standardized data models as they have us the least error in both Batch and Stochastic Gradient Descent.\n"
   ]
  },
  {
   "cell_type": "code",
   "execution_count": null,
   "metadata": {},
   "outputs": [
    {
     "name": "stdout",
     "output_type": "stream",
     "text": [
      "SGD Model Test Accuracy: 0.9333\n",
      "GD Model Test Accuracy: 0.9333\n",
      "\n",
      "SGD Model Classification Report:\n",
      "              precision    recall  f1-score   support\n",
      "\n",
      "           0       1.00      1.00      1.00        16\n",
      "           1       0.85      1.00      0.92        23\n",
      "           2       1.00      0.81      0.89        21\n",
      "\n",
      "    accuracy                           0.93        60\n",
      "   macro avg       0.95      0.94      0.94        60\n",
      "weighted avg       0.94      0.93      0.93        60\n",
      "\n",
      "\n",
      "GD Model Classification Report:\n",
      "              precision    recall  f1-score   support\n",
      "\n",
      "           0       1.00      1.00      1.00        16\n",
      "           1       0.85      1.00      0.92        23\n",
      "           2       1.00      0.81      0.89        21\n",
      "\n",
      "    accuracy                           0.93        60\n",
      "   macro avg       0.95      0.94      0.94        60\n",
      "weighted avg       0.94      0.93      0.93        60\n",
      "\n",
      "\n",
      "SGD Model Confusion Matrix:\n",
      "[[16  0  0]\n",
      " [ 0 23  0]\n",
      " [ 0  4 17]]\n",
      "\n",
      "GD Model Confusion Matrix:\n",
      "[[16  0  0]\n",
      " [ 0 23  0]\n",
      " [ 0  4 17]]\n"
     ]
    }
   ],
   "source": [
    "from sklearn.metrics import classification_report\n",
    "\n",
    "\n",
    "#using the weights and biases from the standardied data model\n",
    "y_test_pred_sgd = predict(X_test_std, W_sgd, b_sgd) \n",
    "y_test_pred_gd = predict(X_test_std, W_gd, b_gd)\n",
    "\n",
    "def compute_accuracy(y_true, y_pred):\n",
    "    return np.mean(y_true == y_pred)\n",
    "\n",
    "def compute_confusion_matrix(y_true, y_pred, num_classes):\n",
    "    conf_matrix = np.zeros((num_classes, num_classes), dtype=int)\n",
    "    for true_label, pred_label in zip(y_true, y_pred):\n",
    "        conf_matrix[true_label][pred_label] += 1\n",
    "    return conf_matrix\n",
    "\n",
    "accuracy_scores = {\n",
    "    \"SGD Model\": compute_accuracy(y_test, y_test_pred_sgd),\n",
    "    \"GD Model\": compute_accuracy(y_test, y_test_pred_gd)\n",
    "}\n",
    "\n",
    "for model, acc in accuracy_scores.items():\n",
    "    print(f\"{model} Test Accuracy: {acc:.4f}\")\n",
    "\n",
    "classification_reports = {\n",
    "    \"SGD Model\": classification_report(y_test, y_test_pred_sgd, zero_division=0),\n",
    "    \"GD Model\": classification_report(y_test, y_test_pred_gd, zero_division=0)\n",
    "}\n",
    "\n",
    "confusion_matrices = {\n",
    "    \"SGD Model\": compute_confusion_matrix(y_test, y_test_pred_sgd,n_classes),\n",
    "    \"GD Model\": compute_confusion_matrix(y_test, y_test_pred_gd,n_classes)\n",
    "}\n",
    "\n",
    "for model, report in classification_reports.items():\n",
    "    print(f\"\\n{model} Classification Report:\\n{report}\")\n",
    "\n",
    "for model, matrix in confusion_matrices.items():\n",
    "    print(f\"\\n{model} Confusion Matrix:\\n{matrix}\")\n"
   ]
  },
  {
   "cell_type": "code",
   "execution_count": 44,
   "metadata": {},
   "outputs": [
    {
     "data": {
      "image/png": "[encoded data removed]",
      "text/plain": [
       "<Figure size 800x500 with 1 Axes>"
      ]
     },
     "metadata": {},
     "output_type": "display_data"
    }
   ],
   "source": [
    "import matplotlib.pyplot as plt\n",
    "\n",
    "plt.figure(figsize=(8, 5))\n",
    "plt.plot(range(len(loss_history_sgd)), loss_history_sgd, label=\"SGD Loss\", color='b', linestyle='-')\n",
    "plt.plot(range(len(loss_gd)), loss_gd, label=\"Batch GD Loss\", color='r', linestyle='--')\n",
    "\n",
    "# Labels and Title\n",
    "plt.xlabel(\"Epochs\")\n",
    "plt.ylabel(\"Loss\")\n",
    "plt.title(\"Training Loss Curve\")\n",
    "plt.legend()\n",
    "plt.grid(True)\n",
    "plt.show()\n"
   ]
  },
  {
   "cell_type": "code",
   "execution_count": null,
   "metadata": {},
   "outputs": [],
   "source": []
  }
 ],
 "metadata": {
  "kernelspec": {
   "display_name": "Python 3 (ipykernel)",
   "language": "python",
   "name": "python3"
  }
 },
 "nbformat": 4,
 "nbformat_minor": 2
}
